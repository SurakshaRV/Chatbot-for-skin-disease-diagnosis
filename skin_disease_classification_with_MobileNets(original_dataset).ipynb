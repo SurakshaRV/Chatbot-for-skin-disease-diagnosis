{
  "nbformat": 4,
  "nbformat_minor": 0,
  "metadata": {
    "colab": {
      "name": "skin_disease_classification_with_MobileNets(original_dataset).ipynb",
      "provenance": [],
      "collapsed_sections": [],
      "mount_file_id": "1LoFM-6HswpqFFjXfEqxvAdo3mP38FMum",
      "authorship_tag": "ABX9TyMoeflc04FPxBN4qzk7c2Dt",
      "include_colab_link": true
    },
    "kernelspec": {
      "name": "python3",
      "display_name": "Python 3"
    },
    "accelerator": "GPU"
  },
  "cells": [
    {
      "cell_type": "markdown",
      "metadata": {
        "id": "view-in-github",
        "colab_type": "text"
      },
      "source": [
        "<a href=\"https://colab.research.google.com/github/SurakshaRV/Chatbot-for-skin-disease-diagnosis/blob/main/skin_disease_classification_with_MobileNets(original_dataset).ipynb\" target=\"_parent\"><img src=\"https://colab.research.google.com/assets/colab-badge.svg\" alt=\"Open In Colab\"/></a>"
      ]
    },
    {
      "cell_type": "code",
      "metadata": {
        "id": "PMkjew2bFVBe"
      },
      "source": [
        "# Import the libraries\n",
        "import numpy as np\n",
        "import keras\n",
        "from keras import backend as K\n",
        "from keras.layers.core import Dense, Dropout\n",
        "from keras.optimizers import Adam\n",
        "from keras.preprocessing.image import ImageDataGenerator\n",
        "from keras.models import Model\n",
        "from keras.callbacks import ReduceLROnPlateau, ModelCheckpoint\n",
        "from keras.wrappers.scikit_learn import KerasClassifier\n",
        "from sklearn.model_selection import GridSearchCV\n",
        "from sklearn.metrics import confusion_matrix\n",
        "import itertools\n",
        "import matplotlib.pyplot as plt"
      ],
      "execution_count": 1,
      "outputs": []
    },
    {
      "cell_type": "code",
      "metadata": {
        "id": "ylIxge0SIlxY",
        "colab": {
          "base_uri": "https://localhost:8080/"
        },
        "outputId": "22bc59dd-8c93-44e5-9f6b-cec74e69ecb7"
      },
      "source": [
        "from google.colab import drive\n",
        "drive.mount('/content/drive/')"
      ],
      "execution_count": 2,
      "outputs": [
        {
          "output_type": "stream",
          "text": [
            "Mounted at /content/drive/\n"
          ],
          "name": "stdout"
        }
      ]
    },
    {
      "cell_type": "code",
      "metadata": {
        "id": "amSLwE6vI2fa"
      },
      "source": [
        "# The paths for the training and validation images\n",
        "train_path = '/content/drive/MyDrive/base_dir2/train_dir2'\n",
        "valid_path = '/content/drive/MyDrive/base_dir2/test_dir2/val_dir2'\n",
        "test_path= '/content/drive/MyDrive/base_dir2/test_dir2/testing_dir2'\n",
        "\n",
        "#number of images in the training set\n",
        "num_train_samples = 6009\n",
        "#number of images in the evaluation set\n",
        "num_val_samples = 2003\n",
        "#number of images in the test set\n",
        "num_test_samples = 2004\n",
        "#dimensions of the image that will be inputed into the network (224x224)\n",
        "image_size = 224\n",
        "\n",
        "train_batch_size = 20\n",
        "val_batch_size = 20\n",
        "'''#declare grid search parameters\n",
        "batch_size=train_batch_size = val_batch_size= [10, 20, 40, 60, 80, 100]\n",
        "epochs = [20, 50, 100]\n",
        "param_grid = dict(batch_size=batch_size, epochs=epochs)'''\n",
        "\n",
        "# Declare how many steps are needed in an iteration\n",
        "train_steps = np.ceil(num_train_samples / train_batch_size)\n",
        "val_steps = np.ceil(num_val_samples / val_batch_size)"
      ],
      "execution_count": 4,
      "outputs": []
    },
    {
      "cell_type": "code",
      "metadata": {
        "id": "MoIceyGKJ5Xs",
        "colab": {
          "base_uri": "https://localhost:8080/"
        },
        "outputId": "c158cf79-da1c-4722-c455-3f5e72e12685"
      },
      "source": [
        "# Set up generators\n",
        "train_batches = ImageDataGenerator(\n",
        "    preprocessing_function= \\\n",
        "        keras.applications.mobilenet.preprocess_input).flow_from_directory(\n",
        "    train_path, #pointing to the path where the data is stored\n",
        "    target_size=(image_size, image_size), #the target size of the image output\n",
        "    batch_size=train_batch_size) #size of the batches\n",
        "\n",
        "valid_batches = ImageDataGenerator(\n",
        "    preprocessing_function= \\\n",
        "        keras.applications.mobilenet.preprocess_input).flow_from_directory(\n",
        "    valid_path,\n",
        "    target_size=(image_size, image_size),\n",
        "    batch_size=val_batch_size)\n",
        "\n",
        "test_batches = ImageDataGenerator(\n",
        "    preprocessing_function= \\\n",
        "        keras.applications.mobilenet.preprocess_input).flow_from_directory(\n",
        "    test_path,\n",
        "    target_size=(image_size, image_size),\n",
        "    batch_size=val_batch_size,\n",
        "    shuffle=False)"
      ],
      "execution_count": 5,
      "outputs": [
        {
          "output_type": "stream",
          "text": [
            "Found 6066 images belonging to 7 classes.\n",
            "Found 2028 images belonging to 7 classes.\n",
            "Found 2037 images belonging to 7 classes.\n"
          ],
          "name": "stdout"
        }
      ]
    },
    {
      "cell_type": "code",
      "metadata": {
        "id": "5nr1A4vsKAL2",
        "colab": {
          "base_uri": "https://localhost:8080/"
        },
        "outputId": "9ba3252d-1292-4302-971c-dea22493cddb"
      },
      "source": [
        "#Create a MobileNet model\n",
        "mobile = keras.applications.mobilenet.MobileNet()\n",
        "\n",
        "# Modify the model\n",
        "# Choose the 6th layer from the last\n",
        "x = mobile.layers[-6].output\n",
        "\n",
        "# Add a dropout and dense layer for predictions\n",
        "x = Dropout(0.25)(x)\n",
        "predictions = Dense(7, activation='softmax')(x)\n",
        "\n",
        "# Create a new model with the new outputs\n",
        "model = Model(inputs=mobile.input, outputs=predictions)\n",
        "\n",
        "# Prevent everything except the last 23 layers from being trained\n",
        "for layer in model.layers[:-23]:\n",
        "  layer.trainable = False"
      ],
      "execution_count": 6,
      "outputs": [
        {
          "output_type": "stream",
          "text": [
            "Downloading data from https://storage.googleapis.com/tensorflow/keras-applications/mobilenet/mobilenet_1_0_224_tf.h5\n",
            "17227776/17225924 [==============================] - 0s 0us/step\n"
          ],
          "name": "stdout"
        }
      ]
    },
    {
      "cell_type": "code",
      "metadata": {
        "id": "J-Lacp7OKMWO"
      },
      "source": [
        "# Define Top2 and Top3 Accuracy\n",
        "from keras.metrics import categorical_accuracy, top_k_categorical_accuracy\n",
        "\n",
        "def top_3_accuracy(y_true, y_pred):\n",
        "    return top_k_categorical_accuracy(y_true, y_pred, k=3)\n",
        "\n",
        "def top_2_accuracy(y_true, y_pred):\n",
        "    return top_k_categorical_accuracy(y_true, y_pred, k=2)\n",
        "\n",
        "# Add weights to make the model more sensitive to melanoma\n",
        "class_weights={\n",
        "    0: 1.0,  # akiec\n",
        "    1: 1.0,  # bcc\n",
        "    2: 1.0,  # bkl\n",
        "    3: 1.0,  # df\n",
        "    4: 1.0,  # mel\n",
        "    5: 1.0,  # nv\n",
        "    6: 1.0,  # vasc\n",
        "}"
      ],
      "execution_count": 7,
      "outputs": []
    },
    {
      "cell_type": "code",
      "metadata": {
        "id": "DhvyowCdKUnZ",
        "colab": {
          "base_uri": "https://localhost:8080/"
        },
        "outputId": "4b9d74a6-cbae-4018-ef12-d165ba9d2402"
      },
      "source": [
        "filepath = \"/content/drive/MyDrive/skin_lesion_model(orig-dataset).h5\"\n",
        "\n",
        "# Compile the model\n",
        "model.compile(Adam(lr=0.01), loss='categorical_crossentropy', metrics=[categorical_accuracy, top_2_accuracy, top_3_accuracy])\n",
        "\n",
        "# Declare a checkpoint to save the best version of the model\n",
        "checkpoint = ModelCheckpoint(filepath, monitor='val_top_3_accuracy', verbose=1,\n",
        "                             save_best_only=True, mode='max')\n",
        "\n",
        "# Reduce the learning rate as the learning stagnates\n",
        "reduce_lr = ReduceLROnPlateau(monitor='val_top_3_accuracy', factor=0.5, patience=2,\n",
        "                              verbose=1, mode='max', min_lr=0.00001)\n",
        "\n",
        "callbacks_list = [checkpoint, reduce_lr]\n",
        "\n",
        "# Fit the model\n",
        "history = model.fit_generator(train_batches,\n",
        "                              steps_per_epoch=train_steps,\n",
        "                              class_weight=class_weights,\n",
        "                              validation_data=valid_batches,\n",
        "                              validation_steps=val_steps,\n",
        "                              epochs=20,\n",
        "                              verbose=1,\n",
        "                              callbacks=callbacks_list)"
      ],
      "execution_count": 8,
      "outputs": [
        {
          "output_type": "stream",
          "text": [
            "WARNING:tensorflow:From <ipython-input-8-3737a0e1d604>:24: Model.fit_generator (from tensorflow.python.keras.engine.training) is deprecated and will be removed in a future version.\n",
            "Instructions for updating:\n",
            "Please use Model.fit, which supports generators.\n",
            "Epoch 1/20\n",
            "301/301 [==============================] - ETA: 0s - loss: 1.0315 - categorical_accuracy: 0.6938 - top_2_accuracy: 0.8265 - top_3_accuracy: 0.9104\n",
            "Epoch 00001: val_top_3_accuracy improved from -inf to 0.87079, saving model to /content/drive/MyDrive/skin_lesion_model(orig-dataset).h5\n",
            "301/301 [==============================] - 1755s 6s/step - loss: 1.0315 - categorical_accuracy: 0.6938 - top_2_accuracy: 0.8265 - top_3_accuracy: 0.9104 - val_loss: 2.2768 - val_categorical_accuracy: 0.5673 - val_top_2_accuracy: 0.7921 - val_top_3_accuracy: 0.8708\n",
            "Epoch 2/20\n",
            "301/301 [==============================] - ETA: 0s - loss: 0.7046 - categorical_accuracy: 0.7542 - top_2_accuracy: 0.8869 - top_3_accuracy: 0.9514\n",
            "Epoch 00002: val_top_3_accuracy improved from 0.87079 to 0.93960, saving model to /content/drive/MyDrive/skin_lesion_model(orig-dataset).h5\n",
            "301/301 [==============================] - 96s 317ms/step - loss: 0.7046 - categorical_accuracy: 0.7542 - top_2_accuracy: 0.8869 - top_3_accuracy: 0.9514 - val_loss: 0.8746 - val_categorical_accuracy: 0.7366 - val_top_2_accuracy: 0.8683 - val_top_3_accuracy: 0.9396\n",
            "Epoch 3/20\n",
            "301/301 [==============================] - ETA: 0s - loss: 0.6059 - categorical_accuracy: 0.7879 - top_2_accuracy: 0.9151 - top_3_accuracy: 0.9647\n",
            "Epoch 00003: val_top_3_accuracy did not improve from 0.93960\n",
            "301/301 [==============================] - 86s 287ms/step - loss: 0.6059 - categorical_accuracy: 0.7879 - top_2_accuracy: 0.9151 - top_3_accuracy: 0.9647 - val_loss: 1.0917 - val_categorical_accuracy: 0.7134 - val_top_2_accuracy: 0.8589 - val_top_3_accuracy: 0.9228\n",
            "Epoch 4/20\n",
            "301/301 [==============================] - ETA: 0s - loss: 0.5383 - categorical_accuracy: 0.8027 - top_2_accuracy: 0.9287 - top_3_accuracy: 0.9755\n",
            "Epoch 00004: val_top_3_accuracy did not improve from 0.93960\n",
            "\n",
            "Epoch 00004: ReduceLROnPlateau reducing learning rate to 0.004999999888241291.\n",
            "301/301 [==============================] - 85s 283ms/step - loss: 0.5383 - categorical_accuracy: 0.8027 - top_2_accuracy: 0.9287 - top_3_accuracy: 0.9755 - val_loss: 1.4830 - val_categorical_accuracy: 0.5614 - val_top_2_accuracy: 0.7911 - val_top_3_accuracy: 0.9025\n",
            "Epoch 5/20\n",
            "301/301 [==============================] - ETA: 0s - loss: 0.3582 - categorical_accuracy: 0.8696 - top_2_accuracy: 0.9675 - top_3_accuracy: 0.9908\n",
            "Epoch 00005: val_top_3_accuracy improved from 0.93960 to 0.94604, saving model to /content/drive/MyDrive/skin_lesion_model(orig-dataset).h5\n",
            "301/301 [==============================] - 86s 285ms/step - loss: 0.3582 - categorical_accuracy: 0.8696 - top_2_accuracy: 0.9675 - top_3_accuracy: 0.9908 - val_loss: 0.9491 - val_categorical_accuracy: 0.7589 - val_top_2_accuracy: 0.8881 - val_top_3_accuracy: 0.9460\n",
            "Epoch 6/20\n",
            "301/301 [==============================] - ETA: 0s - loss: 0.2553 - categorical_accuracy: 0.9078 - top_2_accuracy: 0.9784 - top_3_accuracy: 0.9952\n",
            "Epoch 00006: val_top_3_accuracy did not improve from 0.94604\n",
            "301/301 [==============================] - 86s 286ms/step - loss: 0.2553 - categorical_accuracy: 0.9078 - top_2_accuracy: 0.9784 - top_3_accuracy: 0.9952 - val_loss: 1.1130 - val_categorical_accuracy: 0.7718 - val_top_2_accuracy: 0.8678 - val_top_3_accuracy: 0.9287\n",
            "Epoch 7/20\n",
            "301/301 [==============================] - ETA: 0s - loss: 0.2195 - categorical_accuracy: 0.9256 - top_2_accuracy: 0.9840 - top_3_accuracy: 0.9960\n",
            "Epoch 00007: val_top_3_accuracy improved from 0.94604 to 0.95198, saving model to /content/drive/MyDrive/skin_lesion_model(orig-dataset).h5\n",
            "301/301 [==============================] - 86s 285ms/step - loss: 0.2195 - categorical_accuracy: 0.9256 - top_2_accuracy: 0.9840 - top_3_accuracy: 0.9960 - val_loss: 1.8352 - val_categorical_accuracy: 0.7401 - val_top_2_accuracy: 0.8911 - val_top_3_accuracy: 0.9520\n",
            "Epoch 8/20\n",
            "301/301 [==============================] - ETA: 0s - loss: 0.2007 - categorical_accuracy: 0.9257 - top_2_accuracy: 0.9870 - top_3_accuracy: 0.9975\n",
            "Epoch 00008: val_top_3_accuracy did not improve from 0.95198\n",
            "301/301 [==============================] - 85s 284ms/step - loss: 0.2007 - categorical_accuracy: 0.9257 - top_2_accuracy: 0.9870 - top_3_accuracy: 0.9975 - val_loss: 1.5418 - val_categorical_accuracy: 0.7421 - val_top_2_accuracy: 0.8807 - val_top_3_accuracy: 0.9436\n",
            "Epoch 9/20\n",
            "301/301 [==============================] - ETA: 0s - loss: 0.1339 - categorical_accuracy: 0.9554 - top_2_accuracy: 0.9948 - top_3_accuracy: 0.9985\n",
            "Epoch 00009: val_top_3_accuracy did not improve from 0.95198\n",
            "\n",
            "Epoch 00009: ReduceLROnPlateau reducing learning rate to 0.0024999999441206455.\n",
            "301/301 [==============================] - 85s 283ms/step - loss: 0.1339 - categorical_accuracy: 0.9554 - top_2_accuracy: 0.9948 - top_3_accuracy: 0.9985 - val_loss: 1.4469 - val_categorical_accuracy: 0.7554 - val_top_2_accuracy: 0.8802 - val_top_3_accuracy: 0.9347\n",
            "Epoch 10/20\n",
            "301/301 [==============================] - ETA: 0s - loss: 0.0679 - categorical_accuracy: 0.9752 - top_2_accuracy: 0.9977 - top_3_accuracy: 0.9995\n",
            "Epoch 00010: val_top_3_accuracy improved from 0.95198 to 0.96733, saving model to /content/drive/MyDrive/skin_lesion_model(orig-dataset).h5\n",
            "301/301 [==============================] - 86s 287ms/step - loss: 0.0679 - categorical_accuracy: 0.9752 - top_2_accuracy: 0.9977 - top_3_accuracy: 0.9995 - val_loss: 0.9840 - val_categorical_accuracy: 0.7921 - val_top_2_accuracy: 0.9183 - val_top_3_accuracy: 0.9673\n",
            "Epoch 11/20\n",
            "301/301 [==============================] - ETA: 0s - loss: 0.0247 - categorical_accuracy: 0.9925 - top_2_accuracy: 0.9997 - top_3_accuracy: 1.0000\n",
            "Epoch 00011: val_top_3_accuracy did not improve from 0.96733\n",
            "301/301 [==============================] - 85s 283ms/step - loss: 0.0247 - categorical_accuracy: 0.9925 - top_2_accuracy: 0.9997 - top_3_accuracy: 1.0000 - val_loss: 1.2831 - val_categorical_accuracy: 0.7990 - val_top_2_accuracy: 0.9124 - val_top_3_accuracy: 0.9644\n",
            "Epoch 12/20\n",
            "301/301 [==============================] - ETA: 0s - loss: 0.0216 - categorical_accuracy: 0.9925 - top_2_accuracy: 0.9993 - top_3_accuracy: 0.9998\n",
            "Epoch 00012: val_top_3_accuracy did not improve from 0.96733\n",
            "\n",
            "Epoch 00012: ReduceLROnPlateau reducing learning rate to 0.0012499999720603228.\n",
            "301/301 [==============================] - 85s 282ms/step - loss: 0.0216 - categorical_accuracy: 0.9925 - top_2_accuracy: 0.9993 - top_3_accuracy: 0.9998 - val_loss: 1.3128 - val_categorical_accuracy: 0.7436 - val_top_2_accuracy: 0.9099 - val_top_3_accuracy: 0.9614\n",
            "Epoch 13/20\n",
            "301/301 [==============================] - ETA: 0s - loss: 0.0138 - categorical_accuracy: 0.9950 - top_2_accuracy: 1.0000 - top_3_accuracy: 1.0000\n",
            "Epoch 00013: val_top_3_accuracy did not improve from 0.96733\n",
            "301/301 [==============================] - 85s 282ms/step - loss: 0.0138 - categorical_accuracy: 0.9950 - top_2_accuracy: 1.0000 - top_3_accuracy: 1.0000 - val_loss: 1.1406 - val_categorical_accuracy: 0.8015 - val_top_2_accuracy: 0.9139 - val_top_3_accuracy: 0.9614\n",
            "Epoch 14/20\n",
            "301/301 [==============================] - ETA: 0s - loss: 0.0090 - categorical_accuracy: 0.9980 - top_2_accuracy: 1.0000 - top_3_accuracy: 1.0000\n",
            "Epoch 00014: val_top_3_accuracy did not improve from 0.96733\n",
            "\n",
            "Epoch 00014: ReduceLROnPlateau reducing learning rate to 0.0006249999860301614.\n",
            "301/301 [==============================] - 86s 284ms/step - loss: 0.0090 - categorical_accuracy: 0.9980 - top_2_accuracy: 1.0000 - top_3_accuracy: 1.0000 - val_loss: 1.2340 - val_categorical_accuracy: 0.7936 - val_top_2_accuracy: 0.9139 - val_top_3_accuracy: 0.9658\n",
            "Epoch 15/20\n",
            "301/301 [==============================] - ETA: 0s - loss: 0.0086 - categorical_accuracy: 0.9973 - top_2_accuracy: 1.0000 - top_3_accuracy: 1.0000\n",
            "Epoch 00015: val_top_3_accuracy did not improve from 0.96733\n",
            "301/301 [==============================] - 85s 282ms/step - loss: 0.0086 - categorical_accuracy: 0.9973 - top_2_accuracy: 1.0000 - top_3_accuracy: 1.0000 - val_loss: 1.1991 - val_categorical_accuracy: 0.7985 - val_top_2_accuracy: 0.9124 - val_top_3_accuracy: 0.9599\n",
            "Epoch 16/20\n",
            "301/301 [==============================] - ETA: 0s - loss: 0.0054 - categorical_accuracy: 0.9988 - top_2_accuracy: 1.0000 - top_3_accuracy: 1.0000\n",
            "Epoch 00016: val_top_3_accuracy did not improve from 0.96733\n",
            "\n",
            "Epoch 00016: ReduceLROnPlateau reducing learning rate to 0.0003124999930150807.\n",
            "301/301 [==============================] - 86s 285ms/step - loss: 0.0054 - categorical_accuracy: 0.9988 - top_2_accuracy: 1.0000 - top_3_accuracy: 1.0000 - val_loss: 1.2841 - val_categorical_accuracy: 0.8040 - val_top_2_accuracy: 0.9144 - val_top_3_accuracy: 0.9609\n",
            "Epoch 17/20\n",
            "301/301 [==============================] - ETA: 0s - loss: 0.0045 - categorical_accuracy: 0.9987 - top_2_accuracy: 1.0000 - top_3_accuracy: 1.0000\n",
            "Epoch 00017: val_top_3_accuracy did not improve from 0.96733\n",
            "301/301 [==============================] - 86s 286ms/step - loss: 0.0045 - categorical_accuracy: 0.9987 - top_2_accuracy: 1.0000 - top_3_accuracy: 1.0000 - val_loss: 1.2683 - val_categorical_accuracy: 0.7985 - val_top_2_accuracy: 0.9119 - val_top_3_accuracy: 0.9589\n",
            "Epoch 18/20\n",
            "301/301 [==============================] - ETA: 0s - loss: 0.0032 - categorical_accuracy: 0.9992 - top_2_accuracy: 1.0000 - top_3_accuracy: 1.0000\n",
            "Epoch 00018: val_top_3_accuracy did not improve from 0.96733\n",
            "\n",
            "Epoch 00018: ReduceLROnPlateau reducing learning rate to 0.00015624999650754035.\n",
            "301/301 [==============================] - 85s 283ms/step - loss: 0.0032 - categorical_accuracy: 0.9992 - top_2_accuracy: 1.0000 - top_3_accuracy: 1.0000 - val_loss: 1.3056 - val_categorical_accuracy: 0.8035 - val_top_2_accuracy: 0.9109 - val_top_3_accuracy: 0.9629\n",
            "Epoch 19/20\n",
            "301/301 [==============================] - ETA: 0s - loss: 0.0024 - categorical_accuracy: 0.9995 - top_2_accuracy: 1.0000 - top_3_accuracy: 1.0000\n",
            "Epoch 00019: val_top_3_accuracy did not improve from 0.96733\n",
            "301/301 [==============================] - 85s 283ms/step - loss: 0.0024 - categorical_accuracy: 0.9995 - top_2_accuracy: 1.0000 - top_3_accuracy: 1.0000 - val_loss: 1.3017 - val_categorical_accuracy: 0.8030 - val_top_2_accuracy: 0.9119 - val_top_3_accuracy: 0.9614\n",
            "Epoch 20/20\n",
            "301/301 [==============================] - ETA: 0s - loss: 0.0039 - categorical_accuracy: 0.9990 - top_2_accuracy: 0.9998 - top_3_accuracy: 1.0000\n",
            "Epoch 00020: val_top_3_accuracy did not improve from 0.96733\n",
            "\n",
            "Epoch 00020: ReduceLROnPlateau reducing learning rate to 7.812499825377017e-05.\n",
            "301/301 [==============================] - 85s 282ms/step - loss: 0.0039 - categorical_accuracy: 0.9990 - top_2_accuracy: 0.9998 - top_3_accuracy: 1.0000 - val_loss: 1.3206 - val_categorical_accuracy: 0.8074 - val_top_2_accuracy: 0.9124 - val_top_3_accuracy: 0.9599\n"
          ],
          "name": "stdout"
        }
      ]
    },
    {
      "cell_type": "code",
      "metadata": {
        "id": "a_TRPSTChYz7",
        "colab": {
          "base_uri": "https://localhost:8080/"
        },
        "outputId": "dd34533a-8a6b-493d-e026-65619b5c0d50"
      },
      "source": [
        "# Evaluation of the best epoch\n",
        "model.load_weights('/content/drive/MyDrive/skin_lesion_model(orig-dataset).h5')\n",
        "\n",
        "test_loss, test_cat_acc, test_top_2_acc, test_top_3_acc = model.evaluate_generator(test_batches, steps=val_steps)\n",
        "\n",
        "print('test_loss:', test_loss)\n",
        "print('test_cat_acc:', test_cat_acc)\n",
        "print('test_top_2_acc:', test_top_2_acc)\n",
        "print('test_top_3_acc:', test_top_3_acc)"
      ],
      "execution_count": 9,
      "outputs": [
        {
          "output_type": "stream",
          "text": [
            "WARNING:tensorflow:From <ipython-input-9-1aedcd01c2ce>:4: Model.evaluate_generator (from tensorflow.python.keras.engine.training) is deprecated and will be removed in a future version.\n",
            "Instructions for updating:\n",
            "Please use Model.evaluate, which supports generators.\n",
            "test_loss: 0.8639388084411621\n",
            "test_cat_acc: 0.801980197429657\n",
            "test_top_2_acc: 0.9326732754707336\n",
            "test_top_3_acc: 0.9742574095726013\n"
          ],
          "name": "stdout"
        }
      ]
    },
    {
      "cell_type": "code",
      "metadata": {
        "id": "HZ_yDyx1hljj",
        "colab": {
          "base_uri": "https://localhost:8080/",
          "height": 406
        },
        "outputId": "37d7aa71-77d6-4cd7-eb98-626053d70f09"
      },
      "source": [
        "# Plot the loss function\n",
        "fig, ax = plt.subplots(1, 1, figsize=(10,6))\n",
        "ax.plot(np.sqrt(history.history['loss']), 'r', label='train')\n",
        "ax.plot(np.sqrt(history.history['val_loss']), 'b' ,label='val')\n",
        "ax.set_xlabel(r'Epoch', fontsize=20)\n",
        "ax.set_ylabel(r'Loss', fontsize=20)\n",
        "ax.legend()\n",
        "ax.tick_params(labelsize=20)"
      ],
      "execution_count": 10,
      "outputs": [
        {
          "output_type": "display_data",
          "data": {
            "image/png": "[encoded data removed]",
            "text/plain": [
              "<Figure size 720x432 with 1 Axes>"
            ]
          },
          "metadata": {
            "tags": [],
            "needs_background": "light"
          }
        }
      ]
    },
    {
      "cell_type": "code",
      "metadata": {
        "colab": {
          "base_uri": "https://localhost:8080/",
          "height": 406
        },
        "id": "0Nfu2fyGcwK-",
        "outputId": "cf64e3d3-63c2-4745-a5cb-4f0320bce931"
      },
      "source": [
        "# Plot the accuracy\n",
        "fig, ax = plt.subplots(1, 1, figsize=(10,6))\n",
        "ax.plot(np.sqrt(history.history['categorical_accuracy']), 'r', label='train')\n",
        "ax.plot(np.sqrt(history.history['val_categorical_accuracy']), 'b' ,label='val')\n",
        "ax.set_xlabel(r'Epoch', fontsize=20)\n",
        "ax.set_ylabel(r'Accuracy', fontsize=20)\n",
        "ax.legend()\n",
        "ax.tick_params(labelsize=20)"
      ],
      "execution_count": 11,
      "outputs": [
        {
          "output_type": "display_data",
          "data": {
            "image/png": "[encoded data removed]",
            "text/plain": [
              "<Figure size 720x432 with 1 Axes>"
            ]
          },
          "metadata": {
            "tags": [],
            "needs_background": "light"
          }
        }
      ]
    },
    {
      "cell_type": "code",
      "metadata": {
        "colab": {
          "base_uri": "https://localhost:8080/"
        },
        "id": "Pl9OqyDNc5sV",
        "outputId": "b2cea0e5-8029-4be5-e7b8-964218905503"
      },
      "source": [
        "# Create a confusion matrix of the test images\n",
        "test_labels = test_batches.classes\n",
        "\n",
        "# Make predictions\n",
        "predictions = model.predict_generator(test_batches, steps=val_steps, verbose=1)"
      ],
      "execution_count": 12,
      "outputs": [
        {
          "output_type": "stream",
          "text": [
            "WARNING:tensorflow:From <ipython-input-12-d544774e47bc>:5: Model.predict_generator (from tensorflow.python.keras.engine.training) is deprecated and will be removed in a future version.\n",
            "Instructions for updating:\n",
            "Please use Model.predict, which supports generators.\n",
            "101/101 [==============================] - 21s 211ms/step\n"
          ],
          "name": "stdout"
        }
      ]
    },
    {
      "cell_type": "code",
      "metadata": {
        "colab": {
          "base_uri": "https://localhost:8080/"
        },
        "id": "vjz1CIQRdmX6",
        "outputId": "c6185882-fbd2-459e-99c2-dd1d71e58df4"
      },
      "source": [
        "print(len(test_labels), len(predictions))"
      ],
      "execution_count": 16,
      "outputs": [
        {
          "output_type": "stream",
          "text": [
            "2037 2020\n"
          ],
          "name": "stdout"
        }
      ]
    },
    {
      "cell_type": "code",
      "metadata": {
        "id": "lkoQAmUMdDxt"
      },
      "source": [
        "# Declare a function for plotting the confusion matrix\n",
        "def plot_confusion_matrix(cm, classes, normalize=False, title='Confusion matrix', cmap=plt.cm.Blues):\n",
        "    \"\"\"\n",
        "    This function prints and plots the confusion matrix.\n",
        "    Normalization can be applied by setting `normalize=True`.\n",
        "    \"\"\"\n",
        "    if normalize:\n",
        "        cm = cm.astype('float') / cm.sum(axis=1)[:, np.newaxis]\n",
        "        print(\"Normalized confusion matrix\")\n",
        "    else:\n",
        "        print('Confusion matrix, without normalization')\n",
        "\n",
        "    print(cm)\n",
        "\n",
        "    TP = cm[1][1]\n",
        "    TN = cm[0][0]\n",
        "    FP = cm[0][1]\n",
        "    FN = cm[1][0]\n",
        "    print('True Positives:', TP)\n",
        "    print('True Negatives:', TN)\n",
        "    print('False Positives:', FP)\n",
        "    print('False Negatives:', FN)\n",
        "    \n",
        "    # calculate accuracy\n",
        "    conf_accuracy = (float (TP+TN) / float(TP + TN + FP + FN))\n",
        "    \n",
        "    # calculate mis-classification\n",
        "    conf_misclassification = 1- conf_accuracy\n",
        "    \n",
        "    # calculate the sensitivity\n",
        "    conf_sensitivity = (TP / float(TP + FN))\n",
        "    # calculate the specificity\n",
        "    conf_specificity = (TN / float(TN + FP))\n",
        "    \n",
        "    # calculate precision\n",
        "    conf_precision = (TN / float(TN + FP))\n",
        "    # calculate f_1 score\n",
        "    conf_f1 = 2 * ((conf_precision * conf_sensitivity) / (conf_precision + conf_sensitivity))\n",
        "    print('-'*50)\n",
        "    print(f'Accuracy: {round(conf_accuracy,2)}') \n",
        "    print(f'Mis-Classification: {round(conf_misclassification,2)}') \n",
        "    print(f'Sensitivity: {round(conf_sensitivity,2)}') \n",
        "    print(f'Specificity: {round(conf_specificity,2)}') \n",
        "    print(f'Precision: {round(conf_precision,2)}')\n",
        "    print(f'f_1 Score: {round(conf_f1,2)}')\n",
        "\n",
        "    plt.imshow(cm, interpolation='nearest', cmap=cmap)\n",
        "    plt.title(title)\n",
        "    plt.colorbar()\n",
        "    tick_marks = np.arange(len(classes))\n",
        "    plt.xticks(tick_marks, classes, rotation=45)\n",
        "    plt.yticks(tick_marks, classes)\n",
        "\n",
        "    fmt = '.2f' if normalize else 'd'\n",
        "    thresh = cm.max() / 2.\n",
        "    for i, j in itertools.product(range(cm.shape[0]), range(cm.shape[1])):\n",
        "        plt.text(j, i, format(cm[i, j], fmt),\n",
        "                 horizontalalignment=\"center\",\n",
        "                 color=\"white\" if cm[i, j] > thresh else \"black\")\n",
        "\n",
        "    plt.ylabel('True label')\n",
        "    plt.xlabel('Predicted label')\n",
        "    plt.tight_layout()"
      ],
      "execution_count": 13,
      "outputs": []
    },
    {
      "cell_type": "code",
      "metadata": {
        "colab": {
          "base_uri": "https://localhost:8080/",
          "height": 620
        },
        "id": "laEU9Gv4dGxm",
        "outputId": "4911e431-9ca8-48ec-aba8-9c9859a5ab70"
      },
      "source": [
        "#plot the matrix\n",
        "cm = confusion_matrix(test_labels[:-17], predictions.argmax(axis=1))\n",
        "# matrix labels\n",
        "cm_plot_labels = ['akiec', 'bcc', 'bkl', 'df', 'mel','nv', 'vasc']\n",
        "\n",
        "plot_confusion_matrix(cm, cm_plot_labels)"
      ],
      "execution_count": 17,
      "outputs": [
        {
          "output_type": "stream",
          "text": [
            "Confusion matrix, without normalization\n",
            "[[  28    7   18    1   10    1    0]\n",
            " [   3   69    6    0    5   19    1]\n",
            " [   2    7  145    0   26   40    0]\n",
            " [   3    1    4    5    4    6    0]\n",
            " [   5    1   29    0  110   76    1]\n",
            " [   0   12   47    0   57 1249    2]\n",
            " [   0    3    0    0    1    2   14]]\n",
            "True Positives: 69\n",
            "True Negatives: 28\n",
            "False Positives: 7\n",
            "False Negatives: 3\n",
            "--------------------------------------------------\n",
            "Accuracy: 0.91\n",
            "Mis-Classification: 0.09\n",
            "Sensitivity: 0.96\n",
            "Specificity: 0.8\n",
            "Precision: 0.8\n",
            "f_1 Score: 0.87\n"
          ],
          "name": "stdout"
        },
        {
          "output_type": "display_data",
          "data": {
            "image/png": "[encoded data removed]",
            "text/plain": [
              "<Figure size 432x288 with 2 Axes>"
            ]
          },
          "metadata": {
            "tags": [],
            "needs_background": "light"
          }
        }
      ]
    }
  ]
}