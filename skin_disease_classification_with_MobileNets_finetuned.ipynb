{
  "nbformat": 4,
  "nbformat_minor": 0,
  "metadata": {
    "colab": {
      "name": "skin_disease_classification_with_MobileNets_finetuned.ipynb",
      "provenance": [],
      "collapsed_sections": [],
      "authorship_tag": "ABX9TyPehRqps+W91l3Sbzyp030v",
      "include_colab_link": true
    },
    "kernelspec": {
      "name": "python3",
      "display_name": "Python 3"
    },
    "accelerator": "TPU"
  },
  "cells": [
    {
      "cell_type": "markdown",
      "metadata": {
        "id": "view-in-github",
        "colab_type": "text"
      },
      "source": [
        "<a href=\"https://colab.research.google.com/github/SurakshaRV/Chatbot-for-skin-disease-diagnosis/blob/main/skin_disease_classification_with_MobileNets_finetuned.ipynb\" target=\"_parent\"><img src=\"https://colab.research.google.com/assets/colab-badge.svg\" alt=\"Open In Colab\"/></a>"
      ]
    },
    {
      "cell_type": "code",
      "metadata": {
        "id": "qonZtRTPVG8u"
      },
      "source": [
        "# Import the libraries\n",
        "import numpy as np\n",
        "import keras\n",
        "from keras import backend as K\n",
        "from keras.layers.core import Dense, Dropout\n",
        "from keras.optimizers import Adam\n",
        "from keras.preprocessing.image import ImageDataGenerator\n",
        "from keras.models import Model\n",
        "from keras.callbacks import ReduceLROnPlateau, ModelCheckpoint\n",
        "from keras.wrappers.scikit_learn import KerasClassifier\n",
        "from sklearn.model_selection import GridSearchCV\n",
        "from sklearn.metrics import confusion_matrix\n",
        "import itertools\n",
        "import matplotlib.pyplot as plt"
      ],
      "execution_count": 1,
      "outputs": []
    },
    {
      "cell_type": "code",
      "metadata": {
        "id": "pq9Hl03CVeWA",
        "colab": {
          "base_uri": "https://localhost:8080/"
        },
        "outputId": "401a3877-57b7-468b-e82e-10558cf5269f"
      },
      "source": [
        "# Mount the drive\n",
        "from google.colab import drive\n",
        "drive.mount('/content/drive/')"
      ],
      "execution_count": null,
      "outputs": [
        {
          "output_type": "stream",
          "text": [
            "Mounted at /content/drive/\n"
          ],
          "name": "stdout"
        }
      ]
    },
    {
      "cell_type": "code",
      "metadata": {
        "id": "_cp8wpsJyOqD"
      },
      "source": [
        "# The paths for the training, validation and test images\n",
        "train_path = '/content/drive/My Drive/Kaggle_base_dir.zip (Unzipped Files)/base_dir/train_dir'\n",
        "valid_path = '/content/drive/My Drive/Kaggle_base_dir.zip (Unzipped Files)/base_dir/test_dir/val_dir'\n",
        "test_path= '/content/drive/My Drive/Kaggle_base_dir.zip (Unzipped Files)/base_dir/test_dir/testing_dir'\n",
        "\n",
        "#number of images in the training set\n",
        "num_train_samples = 6009\n",
        "#number of images in the evaluation set\n",
        "num_val_samples = 2003\n",
        "#number of images in the test set\n",
        "num_test_samples = 2004\n",
        "#dimensions of the image that will be inputed into the network (224x224)\n",
        "image_size = 224\n",
        "# batch size initialization\n",
        "train_batch_size = 20\n",
        "val_batch_size = 20\n",
        "test_batch_size = 20\n",
        "\n",
        "# Declare how many steps are needed in an iteration\n",
        "train_steps = np.ceil(num_train_samples / train_batch_size)\n",
        "val_steps = np.ceil(num_val_samples / val_batch_size)"
      ],
      "execution_count": 4,
      "outputs": []
    },
    {
      "cell_type": "code",
      "metadata": {
        "id": "H9VYMRiPyje0",
        "colab": {
          "base_uri": "https://localhost:8080/"
        },
        "outputId": "293cf1ae-560e-4117-ad77-14a22aee8582"
      },
      "source": [
        "# Set up generators\n",
        "train_batches = ImageDataGenerator(\n",
        "    preprocessing_function= \\\n",
        "        keras.applications.mobilenet.preprocess_input).flow_from_directory(\n",
        "    train_path, #pointing to the path where the training images are stored\n",
        "    target_size=(image_size, image_size), #the target size of the image output\n",
        "    batch_size=train_batch_size) #size of the training batches\n",
        "\n",
        "valid_batches = ImageDataGenerator(\n",
        "    preprocessing_function= \\\n",
        "        keras.applications.mobilenet.preprocess_input).flow_from_directory(\n",
        "    valid_path, #pointing to the path where the validation images are stored\n",
        "    target_size=(image_size, image_size), #the target size of the image output\n",
        "    batch_size=val_batch_size)  #size of the validation batches\n",
        "\n",
        "test_batches = ImageDataGenerator(\n",
        "    preprocessing_function= \\\n",
        "        keras.applications.mobilenet.preprocess_input).flow_from_directory(\n",
        "    test_path,\n",
        "    target_size=(image_size, image_size), #the target size of the image output\n",
        "    batch_size=val_batch_size,  #size of the test batches\n",
        "    shuffle=False)"
      ],
      "execution_count": null,
      "outputs": [
        {
          "output_type": "stream",
          "text": [
            "Found 25591 images belonging to 7 classes.\n",
            "Found 2003 images belonging to 7 classes.\n",
            "Found 2004 images belonging to 7 classes.\n"
          ],
          "name": "stdout"
        }
      ]
    },
    {
      "cell_type": "code",
      "metadata": {
        "id": "_UsRm6AZylmq"
      },
      "source": [
        "#Create a MobileNet model\n",
        "mobile = keras.applications.mobilenet.MobileNet()\n",
        "\n",
        "# Modify the model\n",
        "# Choose the 6th layer from the last\n",
        "x = mobile.layers[-6].output\n",
        "\n",
        "# Add a dropout and dense layer for predictions\n",
        "x = Dropout(0.25)(x)\n",
        "predictions = Dense(7, activation='softmax')(x)\n",
        "\n",
        "# Create a new model with the new outputs\n",
        "model = Model(inputs=mobile.input, outputs=predictions)\n",
        "\n",
        "# Prevent everything except the last 23 layers from being trained\n",
        "for layer in model.layers[:-23]:\n",
        "  layer.trainable = False"
      ],
      "execution_count": null,
      "outputs": []
    },
    {
      "cell_type": "code",
      "metadata": {
        "id": "-PShU0SPywxA"
      },
      "source": [
        "# Define Top2 and Top3 Accuracy\n",
        "from keras.metrics import categorical_accuracy, top_k_categorical_accuracy\n",
        "\n",
        "def top_3_accuracy(y_true, y_pred):\n",
        "    return top_k_categorical_accuracy(y_true, y_pred, k=3)\n",
        "\n",
        "def top_2_accuracy(y_true, y_pred):\n",
        "    return top_k_categorical_accuracy(y_true, y_pred, k=2)\n",
        "\n",
        "# Add weights to make the model more sensitive to specific diseases\n",
        "class_weights={\n",
        "    0: 1.0,  # akiec\n",
        "    1: 1.0,  # bcc\n",
        "    2: 1.0,  # bkl\n",
        "    3: 1.0,  # df\n",
        "    4: 1.0,  # mel\n",
        "    5: 1.0,  # nv\n",
        "    6: 1.0,  # vasc\n",
        "}"
      ],
      "execution_count": null,
      "outputs": []
    },
    {
      "cell_type": "code",
      "metadata": {
        "id": "g3pRfPIky8f6",
        "colab": {
          "base_uri": "https://localhost:8080/"
        },
        "outputId": "c6fcb642-f69b-4d7f-aae8-8416767ac66d"
      },
      "source": [
        "filepath = \"skin_lesion_model.h5\" #where mdel weights are to be stored\n",
        "\n",
        "# Compile the model\n",
        "model.compile(Adam(lr=0.01), loss='categorical_crossentropy', metrics=[categorical_accuracy, top_2_accuracy, top_3_accuracy])\n",
        "\n",
        "# Declare a checkpoint to save the best version of the model\n",
        "checkpoint = ModelCheckpoint(filepath, monitor='val_top_3_accuracy', verbose=1,\n",
        "                             save_best_only=True, mode='max')\n",
        "\n",
        "# Reduce the learning rate as the learning stagnates\n",
        "reduce_lr = ReduceLROnPlateau(monitor='val_top_3_accuracy', factor=0.5, patience=2,\n",
        "                              verbose=1, mode='max', min_lr=0.00001)\n",
        "\n",
        "callbacks_list = [checkpoint, reduce_lr]\n",
        "\n",
        "# Fit the model\n",
        "history = model.fit_generator(train_batches,\n",
        "                              steps_per_epoch=train_steps,\n",
        "                              class_weight=class_weights,\n",
        "                              validation_data=valid_batches,\n",
        "                              validation_steps=val_steps,\n",
        "                              epochs=20,\n",
        "                              verbose=1,\n",
        "                              callbacks=callbacks_list)"
      ],
      "execution_count": null,
      "outputs": [
        {
          "output_type": "stream",
          "text": [
            "Epoch 1/20\n",
            "301/301 [==============================] - ETA: 0s - loss: 1.2692 - categorical_accuracy: 0.5776 - top_2_accuracy: 0.7643 - top_3_accuracy: 0.8796\n",
            "Epoch 00001: val_top_3_accuracy improved from -inf to 0.91363, saving model to skin_lesion_model.h5\n",
            "301/301 [==============================] - 745s 2s/step - loss: 1.2692 - categorical_accuracy: 0.5776 - top_2_accuracy: 0.7643 - top_3_accuracy: 0.8796 - val_loss: 1.4570 - val_categorical_accuracy: 0.6810 - val_top_2_accuracy: 0.8078 - val_top_3_accuracy: 0.9136\n",
            "Epoch 2/20\n",
            "301/301 [==============================] - ETA: 0s - loss: 0.8063 - categorical_accuracy: 0.7018 - top_2_accuracy: 0.8694 - top_3_accuracy: 0.9505\n",
            "Epoch 00002: val_top_3_accuracy improved from 0.91363 to 0.93759, saving model to skin_lesion_model.h5\n",
            "301/301 [==============================] - 608s 2s/step - loss: 0.8063 - categorical_accuracy: 0.7018 - top_2_accuracy: 0.8694 - top_3_accuracy: 0.9505 - val_loss: 1.8331 - val_categorical_accuracy: 0.6750 - val_top_2_accuracy: 0.8502 - val_top_3_accuracy: 0.9376\n",
            "Epoch 3/20\n",
            "301/301 [==============================] - ETA: 0s - loss: 0.6997 - categorical_accuracy: 0.7424 - top_2_accuracy: 0.9003 - top_3_accuracy: 0.9666\n",
            "Epoch 00003: val_top_3_accuracy did not improve from 0.93759\n",
            "301/301 [==============================] - 557s 2s/step - loss: 0.6997 - categorical_accuracy: 0.7424 - top_2_accuracy: 0.9003 - top_3_accuracy: 0.9666 - val_loss: 1.8922 - val_categorical_accuracy: 0.4199 - val_top_2_accuracy: 0.7329 - val_top_3_accuracy: 0.8412\n",
            "Epoch 4/20\n",
            "301/301 [==============================] - ETA: 0s - loss: 0.6427 - categorical_accuracy: 0.7591 - top_2_accuracy: 0.9163 - top_3_accuracy: 0.9741\n",
            "Epoch 00004: val_top_3_accuracy did not improve from 0.93759\n",
            "\n",
            "Epoch 00004: ReduceLROnPlateau reducing learning rate to 0.004999999888241291.\n",
            "301/301 [==============================] - 525s 2s/step - loss: 0.6427 - categorical_accuracy: 0.7591 - top_2_accuracy: 0.9163 - top_3_accuracy: 0.9741 - val_loss: 1.1145 - val_categorical_accuracy: 0.6810 - val_top_2_accuracy: 0.8063 - val_top_3_accuracy: 0.9181\n",
            "Epoch 5/20\n",
            "301/301 [==============================] - ETA: 0s - loss: 0.4776 - categorical_accuracy: 0.8198 - top_2_accuracy: 0.9473 - top_3_accuracy: 0.9877\n",
            "Epoch 00005: val_top_3_accuracy improved from 0.93759 to 0.96256, saving model to skin_lesion_model.h5\n",
            "301/301 [==============================] - 509s 2s/step - loss: 0.4776 - categorical_accuracy: 0.8198 - top_2_accuracy: 0.9473 - top_3_accuracy: 0.9877 - val_loss: 0.6500 - val_categorical_accuracy: 0.7753 - val_top_2_accuracy: 0.9066 - val_top_3_accuracy: 0.9626\n",
            "Epoch 6/20\n",
            "301/301 [==============================] - ETA: 0s - loss: 0.4361 - categorical_accuracy: 0.8350 - top_2_accuracy: 0.9514 - top_3_accuracy: 0.9894\n",
            "Epoch 00006: val_top_3_accuracy did not improve from 0.96256\n",
            "301/301 [==============================] - 495s 2s/step - loss: 0.4361 - categorical_accuracy: 0.8350 - top_2_accuracy: 0.9514 - top_3_accuracy: 0.9894 - val_loss: 1.1716 - val_categorical_accuracy: 0.6935 - val_top_2_accuracy: 0.8717 - val_top_3_accuracy: 0.9421\n",
            "Epoch 7/20\n",
            "301/301 [==============================] - ETA: 0s - loss: 0.3778 - categorical_accuracy: 0.8599 - top_2_accuracy: 0.9639 - top_3_accuracy: 0.9918\n",
            "Epoch 00007: val_top_3_accuracy did not improve from 0.96256\n",
            "\n",
            "Epoch 00007: ReduceLROnPlateau reducing learning rate to 0.0024999999441206455.\n",
            "301/301 [==============================] - 491s 2s/step - loss: 0.3778 - categorical_accuracy: 0.8599 - top_2_accuracy: 0.9639 - top_3_accuracy: 0.9918 - val_loss: 0.7832 - val_categorical_accuracy: 0.7549 - val_top_2_accuracy: 0.8887 - val_top_3_accuracy: 0.9566\n",
            "Epoch 8/20\n",
            "301/301 [==============================] - ETA: 0s - loss: 0.3104 - categorical_accuracy: 0.8821 - top_2_accuracy: 0.9731 - top_3_accuracy: 0.9957\n",
            "Epoch 00008: val_top_3_accuracy improved from 0.96256 to 0.96306, saving model to skin_lesion_model.h5\n",
            "301/301 [==============================] - 485s 2s/step - loss: 0.3104 - categorical_accuracy: 0.8821 - top_2_accuracy: 0.9731 - top_3_accuracy: 0.9957 - val_loss: 0.6954 - val_categorical_accuracy: 0.7743 - val_top_2_accuracy: 0.9116 - val_top_3_accuracy: 0.9631\n",
            "Epoch 9/20\n",
            "301/301 [==============================] - ETA: 0s - loss: 0.2740 - categorical_accuracy: 0.8987 - top_2_accuracy: 0.9802 - top_3_accuracy: 0.9963\n",
            "Epoch 00009: val_top_3_accuracy did not improve from 0.96306\n",
            "301/301 [==============================] - 480s 2s/step - loss: 0.2740 - categorical_accuracy: 0.8987 - top_2_accuracy: 0.9802 - top_3_accuracy: 0.9963 - val_loss: 0.7094 - val_categorical_accuracy: 0.7853 - val_top_2_accuracy: 0.9171 - val_top_3_accuracy: 0.9601\n",
            "Epoch 10/20\n",
            "301/301 [==============================] - ETA: 0s - loss: 0.2524 - categorical_accuracy: 0.9035 - top_2_accuracy: 0.9829 - top_3_accuracy: 0.9980\n",
            "Epoch 00010: val_top_3_accuracy did not improve from 0.96306\n",
            "\n",
            "Epoch 00010: ReduceLROnPlateau reducing learning rate to 0.0012499999720603228.\n",
            "301/301 [==============================] - 477s 2s/step - loss: 0.2524 - categorical_accuracy: 0.9035 - top_2_accuracy: 0.9829 - top_3_accuracy: 0.9980 - val_loss: 0.8216 - val_categorical_accuracy: 0.7394 - val_top_2_accuracy: 0.8997 - val_top_3_accuracy: 0.9596\n",
            "Epoch 11/20\n",
            "301/301 [==============================] - ETA: 0s - loss: 0.1975 - categorical_accuracy: 0.9266 - top_2_accuracy: 0.9897 - top_3_accuracy: 0.9985\n",
            "Epoch 00011: val_top_3_accuracy improved from 0.96306 to 0.97104, saving model to skin_lesion_model.h5\n",
            "301/301 [==============================] - 481s 2s/step - loss: 0.1975 - categorical_accuracy: 0.9266 - top_2_accuracy: 0.9897 - top_3_accuracy: 0.9985 - val_loss: 0.6573 - val_categorical_accuracy: 0.7983 - val_top_2_accuracy: 0.9201 - val_top_3_accuracy: 0.9710\n",
            "Epoch 12/20\n",
            "301/301 [==============================] - ETA: 0s - loss: 0.1840 - categorical_accuracy: 0.9336 - top_2_accuracy: 0.9894 - top_3_accuracy: 0.9982\n",
            "Epoch 00012: val_top_3_accuracy did not improve from 0.97104\n",
            "301/301 [==============================] - 496s 2s/step - loss: 0.1840 - categorical_accuracy: 0.9336 - top_2_accuracy: 0.9894 - top_3_accuracy: 0.9982 - val_loss: 0.7510 - val_categorical_accuracy: 0.8003 - val_top_2_accuracy: 0.9196 - val_top_3_accuracy: 0.9636\n",
            "Epoch 13/20\n",
            "301/301 [==============================] - ETA: 0s - loss: 0.1680 - categorical_accuracy: 0.9362 - top_2_accuracy: 0.9910 - top_3_accuracy: 0.9990\n",
            "Epoch 00013: val_top_3_accuracy did not improve from 0.97104\n",
            "\n",
            "Epoch 00013: ReduceLROnPlateau reducing learning rate to 0.0006249999860301614.\n",
            "301/301 [==============================] - 501s 2s/step - loss: 0.1680 - categorical_accuracy: 0.9362 - top_2_accuracy: 0.9910 - top_3_accuracy: 0.9990 - val_loss: 0.6878 - val_categorical_accuracy: 0.7963 - val_top_2_accuracy: 0.9206 - val_top_3_accuracy: 0.9626\n",
            "Epoch 14/20\n",
            "301/301 [==============================] - ETA: 0s - loss: 0.1432 - categorical_accuracy: 0.9483 - top_2_accuracy: 0.9917 - top_3_accuracy: 0.9985\n",
            "Epoch 00014: val_top_3_accuracy did not improve from 0.97104\n",
            "301/301 [==============================] - 498s 2s/step - loss: 0.1432 - categorical_accuracy: 0.9483 - top_2_accuracy: 0.9917 - top_3_accuracy: 0.9985 - val_loss: 0.6574 - val_categorical_accuracy: 0.8118 - val_top_2_accuracy: 0.9276 - val_top_3_accuracy: 0.9705\n",
            "Epoch 15/20\n",
            "301/301 [==============================] - ETA: 0s - loss: 0.1243 - categorical_accuracy: 0.9565 - top_2_accuracy: 0.9949 - top_3_accuracy: 0.9995\n",
            "Epoch 00015: val_top_3_accuracy did not improve from 0.97104\n",
            "\n",
            "Epoch 00015: ReduceLROnPlateau reducing learning rate to 0.0003124999930150807.\n",
            "301/301 [==============================] - 494s 2s/step - loss: 0.1243 - categorical_accuracy: 0.9565 - top_2_accuracy: 0.9949 - top_3_accuracy: 0.9995 - val_loss: 0.7115 - val_categorical_accuracy: 0.7983 - val_top_2_accuracy: 0.9171 - val_top_3_accuracy: 0.9710\n",
            "Epoch 16/20\n",
            "301/301 [==============================] - ETA: 0s - loss: 0.1123 - categorical_accuracy: 0.9630 - top_2_accuracy: 0.9940 - top_3_accuracy: 0.9988\n",
            "Epoch 00016: val_top_3_accuracy did not improve from 0.97104\n",
            "301/301 [==============================] - 489s 2s/step - loss: 0.1123 - categorical_accuracy: 0.9630 - top_2_accuracy: 0.9940 - top_3_accuracy: 0.9988 - val_loss: 0.7046 - val_categorical_accuracy: 0.8123 - val_top_2_accuracy: 0.9271 - val_top_3_accuracy: 0.9690\n",
            "Epoch 17/20\n",
            "301/301 [==============================] - ETA: 0s - loss: 0.1067 - categorical_accuracy: 0.9620 - top_2_accuracy: 0.9958 - top_3_accuracy: 0.9995\n",
            "Epoch 00017: val_top_3_accuracy did not improve from 0.97104\n",
            "\n",
            "Epoch 00017: ReduceLROnPlateau reducing learning rate to 0.00015624999650754035.\n",
            "301/301 [==============================] - 485s 2s/step - loss: 0.1067 - categorical_accuracy: 0.9620 - top_2_accuracy: 0.9958 - top_3_accuracy: 0.9995 - val_loss: 0.7217 - val_categorical_accuracy: 0.8133 - val_top_2_accuracy: 0.9286 - val_top_3_accuracy: 0.9695\n",
            "Epoch 18/20\n",
            "301/301 [==============================] - ETA: 0s - loss: 0.1065 - categorical_accuracy: 0.9624 - top_2_accuracy: 0.9942 - top_3_accuracy: 0.9995\n",
            "Epoch 00018: val_top_3_accuracy did not improve from 0.97104\n",
            "301/301 [==============================] - 487s 2s/step - loss: 0.1065 - categorical_accuracy: 0.9624 - top_2_accuracy: 0.9942 - top_3_accuracy: 0.9995 - val_loss: 0.7258 - val_categorical_accuracy: 0.8173 - val_top_2_accuracy: 0.9276 - val_top_3_accuracy: 0.9685\n",
            "Epoch 19/20\n",
            "301/301 [==============================] - ETA: 0s - loss: 0.0955 - categorical_accuracy: 0.9666 - top_2_accuracy: 0.9965 - top_3_accuracy: 0.9995\n",
            "Epoch 00019: val_top_3_accuracy did not improve from 0.97104\n",
            "\n",
            "Epoch 00019: ReduceLROnPlateau reducing learning rate to 7.812499825377017e-05.\n",
            "301/301 [==============================] - 487s 2s/step - loss: 0.0955 - categorical_accuracy: 0.9666 - top_2_accuracy: 0.9965 - top_3_accuracy: 0.9995 - val_loss: 0.7013 - val_categorical_accuracy: 0.8178 - val_top_2_accuracy: 0.9281 - val_top_3_accuracy: 0.9680\n",
            "Epoch 20/20\n",
            "301/301 [==============================] - ETA: 0s - loss: 0.0872 - categorical_accuracy: 0.9707 - top_2_accuracy: 0.9968 - top_3_accuracy: 0.9998\n",
            "Epoch 00020: val_top_3_accuracy did not improve from 0.97104\n",
            "301/301 [==============================] - 481s 2s/step - loss: 0.0872 - categorical_accuracy: 0.9707 - top_2_accuracy: 0.9968 - top_3_accuracy: 0.9998 - val_loss: 0.7115 - val_categorical_accuracy: 0.8163 - val_top_2_accuracy: 0.9301 - val_top_3_accuracy: 0.9690\n"
          ],
          "name": "stdout"
        }
      ]
    },
    {
      "cell_type": "code",
      "metadata": {
        "id": "Y5ZA8LauzIZp",
        "colab": {
          "base_uri": "https://localhost:8080/"
        },
        "outputId": "a69b9d54-b693-4b0b-d7d2-61e96c9613f4"
      },
      "source": [
        "# Evaluation of the best epoch\n",
        "model.load_weights('skin_lesion_model.h5')\n",
        "\n",
        "test_loss, test_cat_acc, test_top_2_acc, test_top_3_acc = model.evaluate_generator(test_batches, steps=val_steps)\n",
        "\n",
        "print('test_loss:', test_loss)\n",
        "print('test_cat_acc:', test_cat_acc)\n",
        "print('test_top_2_acc:', test_top_2_acc)\n",
        "print('test_top_3_acc:', test_top_3_acc)"
      ],
      "execution_count": null,
      "outputs": [
        {
          "output_type": "stream",
          "text": [
            "WARNING:tensorflow:From <ipython-input-17-65cea43a517a>:4: Model.evaluate_generator (from tensorflow.python.keras.engine.training) is deprecated and will be removed in a future version.\n",
            "Instructions for updating:\n",
            "Please use Model.evaluate, which supports generators.\n",
            "test_loss: 0.5832375884056091\n",
            "test_cat_acc: 0.8013972043991089\n",
            "test_top_2_acc: 0.9301397204399109\n",
            "test_top_3_acc: 0.9725548624992371\n"
          ],
          "name": "stdout"
        }
      ]
    },
    {
      "cell_type": "code",
      "metadata": {
        "id": "MJJp7v-vzQJX",
        "colab": {
          "base_uri": "https://localhost:8080/",
          "height": 406
        },
        "outputId": "d9d61982-34d1-4221-e144-dfff87c53192"
      },
      "source": [
        "# Plot the loss function\n",
        "fig, ax = plt.subplots(1, 1, figsize=(10,6))\n",
        "ax.plot(np.sqrt(history.history['loss']), 'r', label='train')\n",
        "ax.plot(np.sqrt(history.history['val_loss']), 'b' ,label='val')\n",
        "ax.set_xlabel(r'Epoch', fontsize=20)\n",
        "ax.set_ylabel(r'Loss', fontsize=20)\n",
        "ax.legend()\n",
        "ax.tick_params(labelsize=20)"
      ],
      "execution_count": null,
      "outputs": [
        {
          "output_type": "display_data",
          "data": {
            "image/png": "[encoded data removed]",
            "text/plain": [
              "<Figure size 720x432 with 1 Axes>"
            ]
          },
          "metadata": {
            "tags": [],
            "needs_background": "light"
          }
        }
      ]
    },
    {
      "cell_type": "code",
      "metadata": {
        "id": "clrnldAFzXLH",
        "colab": {
          "base_uri": "https://localhost:8080/",
          "height": 412
        },
        "outputId": "8244cc40-d65e-45c8-cdc3-372c85192008"
      },
      "source": [
        "# Plot the accuracy\n",
        "fig, ax = plt.subplots(1, 1, figsize=(10,6))\n",
        "ax.plot(np.sqrt(history.history['categorical_accuracy']), 'r', label='train')\n",
        "ax.plot(np.sqrt(history.history['val_categorical_accuracy']), 'b' ,label='val')\n",
        "ax.set_xlabel(r'Epoch', fontsize=20)\n",
        "ax.set_ylabel(r'Accuracy', fontsize=20)\n",
        "ax.legend()\n",
        "ax.tick_params(labelsize=20)"
      ],
      "execution_count": null,
      "outputs": [
        {
          "output_type": "display_data",
          "data": {
            "image/png": "[encoded data removed]",
            "text/plain": [
              "<Figure size 720x432 with 1 Axes>"
            ]
          },
          "metadata": {
            "tags": [],
            "needs_background": "light"
          }
        }
      ]
    },
    {
      "cell_type": "code",
      "metadata": {
        "id": "hTxPBexszdnX",
        "colab": {
          "base_uri": "https://localhost:8080/"
        },
        "outputId": "e8e29098-140e-43e5-a93a-8dd65d96a9e1"
      },
      "source": [
        "# Create a confusion matrix of the test images\n",
        "test_labels = test_batches.classes\n",
        "\n",
        "# Make predictions\n",
        "predictions = model.predict_generator(test_batches, steps=val_steps, verbose=1)"
      ],
      "execution_count": null,
      "outputs": [
        {
          "output_type": "stream",
          "text": [
            "WARNING:tensorflow:From <ipython-input-20-d544774e47bc>:5: Model.predict_generator (from tensorflow.python.keras.engine.training) is deprecated and will be removed in a future version.\n",
            "Instructions for updating:\n",
            "Please use Model.predict, which supports generators.\n",
            "101/101 [==============================] - 92s 912ms/step\n"
          ],
          "name": "stdout"
        }
      ]
    },
    {
      "cell_type": "code",
      "metadata": {
        "id": "cJzAPGlIzjbu"
      },
      "source": [
        "# Declare a function for plotting the confusion matrix\n",
        "def plot_confusion_matrix(cm, classes, normalize=False, title='Confusion matrix', cmap=plt.cm.Blues):\n",
        "    \"\"\"\n",
        "    This function prints and plots the confusion matrix.\n",
        "    Normalization can be applied by setting `normalize=True`.\n",
        "    \"\"\"\n",
        "    if normalize:\n",
        "        cm = cm.astype('float') / cm.sum(axis=1)[:, np.newaxis]\n",
        "        print(\"Normalized confusion matrix\")\n",
        "    else:\n",
        "        print('Confusion matrix, without normalization')\n",
        "\n",
        "    print(cm)\n",
        "\n",
        "    plt.imshow(cm, interpolation='nearest', cmap=cmap)\n",
        "    plt.title(title)\n",
        "    plt.colorbar()\n",
        "    tick_marks = np.arange(len(classes))\n",
        "    plt.xticks(tick_marks, classes, rotation=45)\n",
        "    plt.yticks(tick_marks, classes)\n",
        "\n",
        "    fmt = '.2f' if normalize else 'd'\n",
        "    thresh = cm.max() / 2.\n",
        "    for i, j in itertools.product(range(cm.shape[0]), range(cm.shape[1])):\n",
        "        plt.text(j, i, format(cm[i, j], fmt),\n",
        "                 horizontalalignment=\"center\",\n",
        "                 color=\"white\" if cm[i, j] > thresh else \"black\")\n",
        "\n",
        "    plt.ylabel('True label')\n",
        "    plt.xlabel('Predicted label')\n",
        "    plt.tight_layout()"
      ],
      "execution_count": null,
      "outputs": []
    },
    {
      "cell_type": "code",
      "metadata": {
        "colab": {
          "base_uri": "https://localhost:8080/",
          "height": 433
        },
        "id": "rQC-cEXnR_4o",
        "outputId": "0795586a-fdcf-4b9d-fbff-d5556655e2bc"
      },
      "source": [
        "#plot the matrix\n",
        "cm = confusion_matrix(test_labels, predictions.argmax(axis=1))\n",
        "# matrix labels\n",
        "cm_plot_labels = ['akiec', 'bcc', 'bkl', 'df', 'mel','nv', 'vasc']\n",
        "\n",
        "plot_confusion_matrix(cm, cm_plot_labels)"
      ],
      "execution_count": null,
      "outputs": [
        {
          "output_type": "stream",
          "text": [
            "Confusion matrix, without normalization\n",
            "[[  45    3   10    0    6    1    0]\n",
            " [   8   67   11    0    6   10    1]\n",
            " [  12    4  146    0   19   39    0]\n",
            " [   0    1    0   12    4    6    0]\n",
            " [   7    0   28    1   94   92    0]\n",
            " [  13   11   44    3   47 1221    3]\n",
            " [   0    3    1    0    1    3   21]]\n"
          ],
          "name": "stdout"
        },
        {
          "output_type": "display_data",
          "data": {
            "image/png": "[encoded data removed]",
            "text/plain": [
              "<Figure size 432x288 with 2 Axes>"
            ]
          },
          "metadata": {
            "tags": [],
            "needs_background": "light"
          }
        }
      ]
    },
    {
      "cell_type": "code",
      "metadata": {
        "colab": {
          "base_uri": "https://localhost:8080/"
        },
        "id": "d4fyWWW3Snsa",
        "outputId": "c2941e75-7c8a-4f7b-b6a2-0ff6d18224ab"
      },
      "source": [
        "#learning rate regularization (only for reference)\n",
        "print(history.history['lr'])"
      ],
      "execution_count": null,
      "outputs": [
        {
          "output_type": "stream",
          "text": [
            "[0.01, 0.01, 0.01, 0.01, 0.005, 0.005, 0.005, 0.0025, 0.0025, 0.0025, 0.00125, 0.00125, 0.00125, 0.000625, 0.000625, 0.0003125, 0.0003125, 0.00015625, 0.00015625, 7.8125e-05]\n"
          ],
          "name": "stdout"
        }
      ]
    }
  ]
}